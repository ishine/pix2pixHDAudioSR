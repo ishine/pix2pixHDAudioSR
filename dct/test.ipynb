{
 "cells": [
  {
   "cell_type": "code",
   "execution_count": 5,
   "metadata": {},
   "outputs": [
    {
     "name": "stdout",
     "output_type": "stream",
     "text": [
      "tensor([ 9.0000, -3.2212,  0.0000, -0.3367,  0.0000, -0.1005,  0.0000, -0.0254],\n",
      "       device='cuda:0')\n",
      "tensor([ 2.0000,  4.0000,  6.0000,  8.0000, 10.0000, 12.0000, 14.0000, 16.0000],\n",
      "       device='cuda:0')\n"
     ]
    }
   ],
   "source": [
    "import torch\n",
    "from dct_lee import DCT, IDCT\n",
    "a = torch.tensor([1.,2.,3.,4.,5.,6.,7.,8.]).cuda()\n",
    "dct = DCT().cuda()\n",
    "idct = IDCT().cuda()\n",
    "b = dct(a)\n",
    "ab = idct(b)\n",
    "print(b)\n",
    "print(ab)"
   ]
  },
  {
   "cell_type": "code",
   "execution_count": 7,
   "metadata": {},
   "outputs": [
    {
     "name": "stdout",
     "output_type": "stream",
     "text": [
      "[12.72792206 -6.44232302  0.         -0.6734548   0.         -0.2009029\n",
      "  0.         -0.05070232]\n",
      "[1. 2. 3. 4. 5. 6. 7. 8.]\n"
     ]
    }
   ],
   "source": [
    "import numpy as np\n",
    "from scipy.fft import dct as sci_dct\n",
    "from scipy.fft import idct as sci_idct\n",
    "aa = np.array([1.,2.,3.,4.,5.,6.,7.,8.])\n",
    "bb = sci_dct(aa, norm='ortho')\n",
    "aabb = sci_idct(bb, norm='ortho')\n",
    "print(bb)\n",
    "print(aabb)\n",
    "# match with matlab"
   ]
  }
 ],
 "metadata": {
  "interpreter": {
   "hash": "1be8e1e697be24aa51be46f7515f4d96c6005120fc689094ce96895b044c9b1b"
  },
  "kernelspec": {
   "display_name": "Python 3.9.7 64-bit ('pytorch': conda)",
   "language": "python",
   "name": "python3"
  },
  "language_info": {
   "codemirror_mode": {
    "name": "ipython",
    "version": 3
   },
   "file_extension": ".py",
   "mimetype": "text/x-python",
   "name": "python",
   "nbconvert_exporter": "python",
   "pygments_lexer": "ipython3",
   "version": "3.9.7"
  },
  "orig_nbformat": 4
 },
 "nbformat": 4,
 "nbformat_minor": 2
}
